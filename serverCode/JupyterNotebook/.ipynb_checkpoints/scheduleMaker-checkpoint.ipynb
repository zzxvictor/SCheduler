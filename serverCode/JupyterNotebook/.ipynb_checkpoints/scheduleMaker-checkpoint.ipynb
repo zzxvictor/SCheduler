{
 "cells": [
  {
   "cell_type": "code",
   "execution_count": 131,
   "metadata": {},
   "outputs": [],
   "source": [
    "import numpy as np \n",
    "import os, json\n",
    "from os.path import isdir, join\n",
    "from functools import cmp_to_key\n",
    "import itertools"
   ]
  },
  {
   "cell_type": "code",
   "execution_count": 114,
   "metadata": {},
   "outputs": [],
   "source": [
    "class score:\n",
    "    def __init__(self):\n",
    "        pass\n",
    "    def get_course_score(self, courseInfo):\n",
    "        return 0\n",
    "    def get_schedule_score(self, scheduleInfo):\n",
    "        return 0 \n",
    "    def get_compact_score (self, scheduleInfo):\n",
    "        return 0"
   ]
  },
  {
   "cell_type": "code",
   "execution_count": 115,
   "metadata": {},
   "outputs": [],
   "source": [
    "mock = [\n",
    "{# 201 Lec\n",
    "    'name': 'CSCI201',\n",
    "    'must have': True,\n",
    "    'prefer':False,\n",
    "    'unit': 4,\n",
    "    'session':\n",
    "    [\n",
    "        {'ID': '30303', 'type':'Lec','time':'08:00am-09:20am, TTh', 'instructor':'Miller, Jeffrey', 'isFull':False ,'must have':False, 'prefer':True},\n",
    "        {'ID': '30254', 'type':'Lec','time':'11:00am-12:20pm, TTh', 'instructor':'Grujic, Olivera', 'isFull':False,'must have':False, 'prefer':False},\n",
    "        {'ID': '29998', 'type':'Lec','time':'12:30pm-01:50pm, TTh', 'instructor':'Grujic, Olivera', 'isFull':False,'must have':False, 'prefer':False},\n",
    "        {'ID': '29979', 'type':'Lec','time':'02:00pm-03:20pm, MW' , 'instructor':'Grujic, Olivera', 'isFull':False ,'must have':False, 'prefer':False},\n",
    "        {'ID': '29993', 'type':'Lec','time':'10:00am-11:50am, MW' , 'instructor':'Grujic, Olivera', 'isFull':False,'must have':False, 'prefer':False},\n",
    "        # 201 discussion\n",
    "        {'ID': '30239', 'type':'Lab','time':'10:00am-11:50am, W', 'instructor':'', 'isFull':False,'must have':False, 'prefer':False},\n",
    "        {'ID': '30238', 'type':'Lab','time':'12:00pm-01:50pm, W', 'instructor':'', 'isFull':False,'must have':False, 'prefer':False},\n",
    "        {'ID': '30237', 'type':'Lab','time':'02:00pm-03:50pm, T', 'instructor':'', 'isFull':False,'must have':False, 'prefer':False},\n",
    "        {'ID': '30134', 'type':'Lab','time':'04:00pm-05:50pm, T', 'instructor':'', 'isFull':True,'must have':False, 'prefer':False},\n",
    "        {'ID': '30385', 'type':'Lab','time':'04:00pm-05:50pm, T', 'instructor':'', 'isFull':True,'must have':True, 'prefer':False},\n",
    "        {'ID': '30241', 'type':'Lab','time':'06:00pm-07:50pm, T', 'instructor':'', 'isFull':False,'must have':False, 'prefer':False},\n",
    "        {'ID': '30396', 'type':'Lab','time':'06:00pm-07:50pm, T', 'instructor':'', 'isFull':False,'must have':False, 'prefer':False},\n",
    "        {'ID': '29904', 'type':'Lab','time':'06:00pm-07:50pm, W', 'instructor':'', 'isFull':True,'must have':False, 'prefer':True},\n",
    "        # 201 quiz\n",
    "        {'ID': '30028', 'type':'Quiz', 'time':'', 'instructor':'', 'isFull':False,'must have':False, 'prefer':False}\n",
    "    ]\n",
    "},\n",
    "# 356 Lec \n",
    "{\n",
    "    'name': 'CSCI356',\n",
    "    'must have': True,\n",
    "    'prefer':False,\n",
    "    'unit':4,\n",
    "    'session': \n",
    "    [\n",
    "        {'ID': '29962', 'type':'Lec','time':'02:00pm-03:20pm, TTh', 'instructor':'Paolieri, Marco', 'isFull':False ,'must have':False, 'prefer':False},\n",
    "        {'ID': '29912', 'type':'Lec','time':'09:30am-10:50am, TTh', 'instructor':'Goodney, Andrew', 'isFull':True ,'must have':False, 'prefer':True},\n",
    "        # 356 Discussino \n",
    "        {'ID': '30239', 'type':'Dis','time':'02:00pm-03:50pm, F', 'instructor':'', 'isFull':False,'must have':False, 'prefer':False},\n",
    "        {'ID': '30124', 'type':'Dis','time':'10:00am-11:50am, F', 'instructor':'', 'isFull':False,'must have':False, 'prefer':False},\n",
    "        {'ID': '30239', 'type':'Dis','time':'12:00pm-01:50pm, F', 'instructor':'', 'isFull':False,'must have':False, 'prefer':False},\n",
    "        # 356 Quiz \n",
    "        {'ID': '30285', 'type':'Quiz', 'time':'08:00pm-09:50pm, T', 'instructor':'', 'isFull':False,'must have':False, 'prefer':False}\n",
    "    ]\n",
    "},\n",
    "# 467 Lec\n",
    "    \n",
    "{\n",
    "    'name':'CSCI467',\n",
    "    'must have': True,\n",
    "    'prefer': False,\n",
    "    'unit':4,\n",
    "    'session': \n",
    "    [\n",
    "        {'ID': '30277', 'type':'Lec','time':'02:00pm-03:20pm, MW', 'instructor':'Rajati, Mohammad Reza', 'isFull':False ,'must have':False, 'prefer':False},\n",
    "        # 467 Dis\n",
    "        { 'ID': '30278', 'type':'Dis','time':'04:00pm-05:50pm, M', 'instructor':'', 'isFull':False ,'must have':False, 'prefer':True},\n",
    "        { 'ID': '30279', 'type':'Dis','time':'04:00pm-05:50pm, T', 'instructor':'', 'isFull':False ,'must have':True, 'prefer':False}\n",
    "    ]\n",
    "},\n",
    "# ENGR100\n",
    "{\n",
    "    'name':'ENGR100',\n",
    "    'must have': False,\n",
    "    'prefer': False,\n",
    "    'unit':1,\n",
    "    'session':\n",
    "    [\n",
    "        { 'ID': '28501', 'type':'Lec','time':'01:00pm-01:50pm, F', 'instructor':'', 'isFull':False ,'must have':False, 'prefer':False}\n",
    "    ]\n",
    "},\n",
    "    \n",
    "# REL137\n",
    "{\n",
    "    'name':'REL137',\n",
    "    'must have': False,\n",
    "    'prefer': True,\n",
    "    'unit':4,\n",
    "    'session':\n",
    "    [\n",
    "        {'ID':'60042', 'type':'Lec','time':'11:00am-12:20pm, TTH', 'instructor':'Jackson, Sherman', 'isFull': False, 'must have':False, 'prefer': False},\n",
    "        {'ID':'60043', 'type':'Dis','time':'10:00am-10:50am, W', 'instructor':'Qazwini, Hadi', 'isFull': False, 'must have':False, 'prefer': False}\n",
    "    ]\n",
    "}\n",
    "]"
   ]
  },
  {
   "cell_type": "code",
   "execution_count": 107,
   "metadata": {},
   "outputs": [],
   "source": [
    "from datetime import datetime\n",
    "from collections import Counter\n",
    "class greedySearch:\n",
    "    def __init__(self, path):\n",
    "        with open (join(path, 'profScoreDB.json')) as handle:\n",
    "            self.profScore = json.load(handle) # read in prof score file \n",
    "        \n",
    "    def get_top_k(self, courseList, constrains=[]):\n",
    "        courseList = self.__process_data(courseList, constrains) #\n",
    "        \n",
    "    \n",
    "    def __process_data(self, courseList, constrains):\n",
    "        for course in  courseList:\n",
    "            self.__time_encoder(course) #  encode session time into array index \n",
    "        courseList = sorted(courseList, key = cmp_to_key(self.__cmp)) #  re-arrange the course list in priority order\n",
    "        for course in  courseList:\n",
    "            course['session'] = sorted(course['session'], key = cmp_to_key(self.__cmp)) # re-arrange session lists in priority order\n",
    "            tempDict ={'Lec':[], 'Lab':[], 'Dis':[], 'Quiz':[]}\n",
    "            for session in course['session']:\n",
    "                tempDict[session['type']].append(session)\n",
    "            course['grouped'] = tempDict\n",
    "        return courseList\n",
    "        \n",
    "    '''\n",
    "    encode textual time into array index, which later is used to check conflicts \n",
    "    '''\n",
    "    def __time_encoder(self, course):\n",
    "        for session in course['session']: \n",
    "            if session['time'] == '':\n",
    "                session['timeNumeric'] = ()\n",
    "                continue\n",
    "            parsed = session['time'].split(',') # get time, day of week\n",
    "            days = Counter(list(parsed[1]))\n",
    "            daysNumeric = [] # convert day to numbers \n",
    "            if 'M' in days:\n",
    "                daysNumeric.append(0)\n",
    "            if 'T' in days and ('h' not in days or days['T']>days['h']):\n",
    "                daysNumeric.append(1)\n",
    "            if 'W' in days:\n",
    "                daysNumeric.append(2)\n",
    "            if 'T' in days and 'h' in days:\n",
    "                daysNumeric.append(3)\n",
    "            if 'F' in days:\n",
    "                daysNumeric.append (4)\n",
    "\n",
    "            time = parsed[0].split('-') # get start, end time\n",
    "            startNumeric = [int(time[0].split(':')[0]), int(time[0].split(':')[1][:2])]\n",
    "            endNumeric = [int(time[1].split(':')[0]), int(time[1].split(':')[1][:2])]\n",
    "            if 'pm' in time[0] and '12' not in time[0]:\n",
    "                startNumeric[0] +=12\n",
    "            if 'pm' in time[1] and '12' not in time[1]:\n",
    "                endNumeric[0] +=12\n",
    "            startNumeric = int ((startNumeric[0]-7)*6 + (startNumeric[1]/10))# convert to index\n",
    "            endNumeric = int ((endNumeric[0]-7)*6 + (endNumeric[1]/10)) # convert to index\n",
    "            timeNumeric = []\n",
    "            for i in daysNumeric:\n",
    "                timeNumeric.append(((i*96) + startNumeric, (i*96) + endNumeric))\n",
    "            session['timeNumeric'] = timeNumeric\n",
    "    '''\n",
    "    comparison logic: must have has the ultimate priority regardless of registration status (close)\n",
    "    then isFull has the secondary priority. If a session is full, it is considered last\n",
    "    then prefer has the third priority. If a session is preferred but not full, it will be place behind must-have but \n",
    "    before not preferred or closed session\n",
    "    '''\n",
    "    def __cmp(self, a,b):\n",
    "        if a['must have'] :\n",
    "            return -1 # a>b\n",
    "        elif b['must have'] :\n",
    "            return 1# b>a\n",
    "        try:\n",
    "            if a['isFull']:\n",
    "                return 1\n",
    "            if b['isFull']:\n",
    "                return -1\n",
    "        except:\n",
    "            pass\n",
    "        \n",
    "        if a['prefer'] and not b['prefer']:\n",
    "            return -1\n",
    "        elif b['prefer'] and not a['prefer']:\n",
    "            return 1\n",
    "        else:\n",
    "            return 0 # same priority"
   ]
  },
  {
   "cell_type": "code",
   "execution_count": 108,
   "metadata": {},
   "outputs": [],
   "source": [
    "model = greedySearch('./')"
   ]
  },
  {
   "cell_type": "code",
   "execution_count": 116,
   "metadata": {},
   "outputs": [
    {
     "name": "stdout",
     "output_type": "stream",
     "text": [
      "157 µs ± 1.7 µs per loop (mean ± std. dev. of 7 runs, 10000 loops each)\n"
     ]
    }
   ],
   "source": [
    "%%timeit\n",
    "sortedL = model.get_top_k(mock)"
   ]
  },
  {
   "cell_type": "code",
   "execution_count": 118,
   "metadata": {},
   "outputs": [
    {
     "name": "stdout",
     "output_type": "stream",
     "text": [
      "COURSE: CSCI467 , must have: True , prefer: False\n",
      "\t\tmust have: True , prefer: False , isFull: False\n",
      "\t\tmust have: False , prefer: True , isFull: False\n",
      "\t\tmust have: False , prefer: False , isFull: False\n",
      "COURSE: CSCI356 , must have: True , prefer: False\n",
      "\t\tmust have: False , prefer: False , isFull: False\n",
      "\t\tmust have: False , prefer: False , isFull: False\n",
      "\t\tmust have: False , prefer: False , isFull: False\n",
      "\t\tmust have: False , prefer: False , isFull: False\n",
      "\t\tmust have: False , prefer: False , isFull: False\n",
      "\t\tmust have: False , prefer: True , isFull: True\n",
      "COURSE: CSCI201 , must have: True , prefer: False\n",
      "\t\tmust have: True , prefer: False , isFull: True\n",
      "\t\tmust have: False , prefer: True , isFull: False\n",
      "\t\tmust have: False , prefer: False , isFull: False\n",
      "\t\tmust have: False , prefer: False , isFull: False\n",
      "\t\tmust have: False , prefer: False , isFull: False\n",
      "\t\tmust have: False , prefer: False , isFull: False\n",
      "\t\tmust have: False , prefer: False , isFull: False\n",
      "\t\tmust have: False , prefer: False , isFull: False\n",
      "\t\tmust have: False , prefer: False , isFull: False\n",
      "\t\tmust have: False , prefer: False , isFull: False\n",
      "\t\tmust have: False , prefer: False , isFull: False\n",
      "\t\tmust have: False , prefer: False , isFull: False\n",
      "\t\tmust have: False , prefer: False , isFull: True\n",
      "\t\tmust have: False , prefer: True , isFull: True\n",
      "COURSE: REL137 , must have: False , prefer: True\n",
      "\t\tmust have: False , prefer: False , isFull: False\n",
      "\t\tmust have: False , prefer: False , isFull: False\n",
      "COURSE: ENGR100 , must have: False , prefer: False\n",
      "\t\tmust have: False , prefer: False , isFull: False\n"
     ]
    }
   ],
   "source": [
    "for course in sortedL:\n",
    "    print ('COURSE:', course['name'], ', must have:', course['must have'], ', prefer:', course['prefer'])\n",
    "    for session in course['session']:\n",
    "        print ('\\t\\tmust have:', session['must have'], ', prefer:', session['prefer'], ', isFull:', session['isFull'])"
   ]
  },
  {
   "cell_type": "code",
   "execution_count": 119,
   "metadata": {},
   "outputs": [],
   "source": [
    "class scoreGenerator:\n",
    "    def __init__(self, path=''):\n",
    "        pass"
   ]
  },
  {
   "cell_type": "code",
   "execution_count": 132,
   "metadata": {},
   "outputs": [],
   "source": [
    "os.listdir('./tempStorage/')\n",
    "jsonList =[]\n",
    "for folder in os.listdir('./tempStorage/'):\n",
    "    if len(folder.split('.'))>1:\n",
    "        continue\n",
    "    for file in os.listdir(join('./tempStorage/', folder)):\n",
    "        with open (join('./tempStorage/', folder, file)) as handle:\n",
    "            jsonList.append(json.load(handle))\n",
    "jsonList = list(itertools.chain.from_iterable(jsonList))"
   ]
  },
  {
   "cell_type": "code",
   "execution_count": 171,
   "metadata": {},
   "outputs": [],
   "source": [
    "import numpy as np\n",
    "time = []\n",
    "for course in jsonList:\n",
    "    if 'start_time'  in course:\n",
    "        time.append(course['start_time'])\n",
    "def timeProcessor(time):\n",
    "    if time == '' or time == 'TBA' or time =={}:\n",
    "        return -1\n",
    "    if type(time) == str:\n",
    "        return int (time.split(':')[0])\n",
    "    else:\n",
    "        return -1\n",
    "        #return timeProcessor(time[0]), timeProcessor(time[1])\n",
    "time = list(map(timeProcessor, time))\n",
    "#time = list(itertools.chain.from_iterable(time))\n",
    "timeValid = list(filter(lambda x: x > 0, time))"
   ]
  },
  {
   "cell_type": "code",
   "execution_count": 176,
   "metadata": {},
   "outputs": [
    {
     "data": {
      "text/plain": [
       "(array([0.00050849, 0.00803417, 0.06335808, 0.09010475, 0.12549578,\n",
       "        0.08542662, 0.13149598, 0.06325638, 0.14024204, 0.0621377 ,\n",
       "        0.07881623, 0.06315468, 0.06468016, 0.02328893]),\n",
       " array([ 6.,  7.,  8.,  9., 10., 11., 12., 13., 14., 15., 16., 17., 18.,\n",
       "        19., 20.]),\n",
       " <a list of 14 Patch objects>)"
      ]
     },
     "execution_count": 176,
     "metadata": {},
     "output_type": "execute_result"
    },
    {
     "data": {
      "image/png": "[encoded data removed]",
      "text/plain": [
       "<matplotlib.figure.Figure at 0x27ef9f0b908>"
      ]
     },
     "metadata": {},
     "output_type": "display_data"
    }
   ],
   "source": [
    "import matplotlib.pyplot as plt \n",
    "plt.hist(timeValid, bins=14, density=True, )"
   ]
  },
  {
   "cell_type": "code",
   "execution_count": null,
   "metadata": {},
   "outputs": [],
   "source": []
  }
 ],
 "metadata": {
  "kernelspec": {
   "display_name": "Python 3",
   "language": "python",
   "name": "python3"
  },
  "language_info": {
   "codemirror_mode": {
    "name": "ipython",
    "version": 3
   },
   "file_extension": ".py",
   "mimetype": "text/x-python",
   "name": "python",
   "nbconvert_exporter": "python",
   "pygments_lexer": "ipython3",
   "version": "3.6.4"
  }
 },
 "nbformat": 4,
 "nbformat_minor": 2
}
